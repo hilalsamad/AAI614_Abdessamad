{
  "nbformat": 4,
  "nbformat_minor": 0,
  "metadata": {
    "colab": {
      "provenance": []
    },
    "kernelspec": {
      "name": "python3",
      "display_name": "Python 3"
    },
    "language_info": {
      "name": "python"
    }
  },
  "cells": [
    {
      "cell_type": "code",
      "execution_count": 4,
      "metadata": {
        "colab": {
          "base_uri": "https://localhost:8080/"
        },
        "id": "yzvSQ7nUBWrw",
        "outputId": "b80ed1df-3687-4bec-8fea-0a5962826ed7"
      },
      "outputs": [
        {
          "output_type": "stream",
          "name": "stdout",
          "text": [
            "Cloning into 'AAI614_Abdessamad'...\n",
            "warning: You appear to have cloned an empty repository.\n"
          ]
        }
      ],
      "source": [
        "!git clone https://github.com/hilalsamad/AAI614_Abdessamad.git"
      ]
    },
    {
      "cell_type": "code",
      "source": [
        "cd AAI614_Abdessamad"
      ],
      "metadata": {
        "colab": {
          "base_uri": "https://localhost:8080/"
        },
        "id": "_tSLYQ6CBeXk",
        "outputId": "21f37aed-bdc6-4cf1-8f13-d0f02fc4d0d0"
      },
      "execution_count": 6,
      "outputs": [
        {
          "output_type": "stream",
          "name": "stdout",
          "text": [
            "/content/AAI614_Abdessamad\n"
          ]
        }
      ]
    },
    {
      "cell_type": "code",
      "source": [
        "!echo \"# AAI614 Project\" > README.md"
      ],
      "metadata": {
        "id": "MVXaP_B0B_s9"
      },
      "execution_count": 8,
      "outputs": []
    },
    {
      "cell_type": "code",
      "source": [
        "!git add ."
      ],
      "metadata": {
        "id": "Pmm4dK8SCM4X"
      },
      "execution_count": 10,
      "outputs": []
    },
    {
      "cell_type": "code",
      "source": [
        "!git config --global user.name \"Hilal Abdessamad\"\n",
        "!git config --global user.email \"hilal.abdessamad@gmail.com\""
      ],
      "metadata": {
        "id": "3wv9JxpkCS_V"
      },
      "execution_count": 13,
      "outputs": []
    },
    {
      "cell_type": "code",
      "source": [
        "!git config user.name \"Hilal Abdessamad\"\n",
        "!git config user.email \"hilal.abdessamad@gmail.com\""
      ],
      "metadata": {
        "id": "0iPN7rMsCsjR"
      },
      "execution_count": 14,
      "outputs": []
    },
    {
      "cell_type": "code",
      "source": [
        "!git commit -m \"Initial testing\""
      ],
      "metadata": {
        "colab": {
          "base_uri": "https://localhost:8080/"
        },
        "id": "FtAQCgfWDMn9",
        "outputId": "5264f695-4e78-4598-d098-f4c27f016b4f"
      },
      "execution_count": 15,
      "outputs": [
        {
          "output_type": "stream",
          "name": "stdout",
          "text": [
            "[main (root-commit) b3393d2] Initial testing\n",
            " 1 file changed, 1 insertion(+)\n",
            " create mode 100644 README.md\n"
          ]
        }
      ]
    }
  ]
}